{
 "cells": [
  {
   "cell_type": "code",
   "execution_count": 1,
   "id": "a9459818-8025-4fbe-9498-035416a9ccd6",
   "metadata": {},
   "outputs": [],
   "source": [
    "sum =0\n",
    "for i in range(100):\n",
    "    sum = sum + i\n",
    "    "
   ]
  },
  {
   "cell_type": "markdown",
   "id": "a67c6368-3172-402d-90e2-4aeb81add0d2",
   "metadata": {},
   "source": [
    "```python\n",
    "sum = 0\n",
    "for i in range(100):\n",
    "    sum = sum + i\n",
    "```\n",
    "\n",
    "**Explanation:**\n",
    "\n",
    "This code calculates the sum of numbers from 0 to 99 (inclusive). Let's break it down step-by-step:\n",
    "\n",
    "1. **`sum = 0`**:\n",
    "   - This line initializes a variable named `sum` to 0.  This variable will store the running total as we iterate through the numbers.  It's crucial to start with 0 because we're adding to it.\n",
    "\n",
    "2. **`for i in range(100):`**:\n",
    "   - This is a `for` loop that iterates 100 times.\n",
    "   - `range(100)` generates a sequence of numbers from 0 up to (but not including) 100.  So, it produces the numbers 0, 1, 2, 3, ..., 98, 99.\n",
    "   - In each iteration of the loop, the variable `i` takes on the next value from this sequence.\n",
    "\n",
    "3. **`sum = sum + i`**:\n",
    "   - This is the core of the calculation.  Inside the loop, this line updates the value of `sum`.\n",
    "   - `sum + i` calculates the sum of the current value of `sum` and the current value of `i`.\n",
    "   - `sum = ...` assigns the result of this calculation back to the `sum` variable.\n",
    "\n",
    "**In simpler terms:**\n",
    "\n",
    "The code starts with a total of 0.  Then, it goes through each number from 0 to 99.  For each number, it adds that number to the running total.  After the loop finishes, the `sum` variable will hold the sum of all the numbers from 0 to 99.\n",
    "\n",
    "**Example:**\n",
    "\n",
    "Let's trace the first few iterations:\n",
    "\n",
    "- **Iteration 1:** `i` is 0.  `sum` is 0.  `sum = 0 + 0`  (sum becomes 0)\n",
    "- **Iteration 2:** `i` is 1.  `sum` is 0.  `sum = 0 + 1`  (sum becomes 1)\n",
    "- **Iteration 3:** `i` is "
   ]
  }
 ],
 "metadata": {
  "kernelspec": {
   "display_name": "Python 3 (ipykernel)",
   "language": "python",
   "name": "python3"
  },
  "language_info": {
   "codemirror_mode": {
    "name": "ipython",
    "version": 3
   },
   "file_extension": ".py",
   "mimetype": "text/x-python",
   "name": "python",
   "nbconvert_exporter": "python",
   "pygments_lexer": "ipython3",
   "version": "3.13.2"
  }
 },
 "nbformat": 4,
 "nbformat_minor": 5
}
